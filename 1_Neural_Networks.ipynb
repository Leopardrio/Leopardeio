{
  "cells": [
    {
      "cell_type": "markdown",
      "metadata": {
        "id": "ujDzE77uWj7Z"
      },
      "source": [
        "### GPU Settings"
      ]
    },
    {
      "cell_type": "code",
      "execution_count": null,
      "metadata": {
        "id": "CSd4GDjQCi0I"
      },
      "outputs": [],
      "source": [
        "# 1. GPU ရွေးမယ်\n",
        "# Edit => Notebook Settings မှာ GPU ကို ရွေးပေးရမယ် မဟုတ်ရင် Run ရတာ အသေကြာနေလိမ့်မယ်\n",
        "# Checking whether the GPU Device is selected or not\n",
        "%tensorflow_version 2.x\n",
        "import tensorflow as tf             #tf library for deep learning\n",
        "device_name = tf.test.gpu_device_name()\n",
        "if device_name != '/device:GPU:0':\n",
        "  raise SystemError('GPU device not found')\n",
        "print('Found GPU at: {}'.format(device_name))\n",
        "%time\n"
      ]
    },
    {
      "cell_type": "markdown",
      "metadata": {
        "id": "9mUVrUM3WvNH"
      },
      "source": [
        "### Import Necessary Libiaries"
      ]
    },
    {
      "cell_type": "markdown",
      "source": [],
      "metadata": {
        "id": "PInjUOK7zsTk"
      }
    },
    {
      "cell_type": "code",
      "execution_count": null,
      "metadata": {
        "id": "DylppLmCI1ds"
      },
      "outputs": [],
      "source": [
        "import os\n",
        "from tensorflow.keras import layers\n",
        "from tensorflow.keras import Model\n",
        "from tensorflow.keras.optimizers import RMSprop        #op is to better results\n",
        "from tensorflow.keras.preprocessing.image import ImageDataGenerator\n",
        "from tensorflow.keras.layers import Dense,Flatten,Conv2D,MaxPooling2D,Dropout\n",
        "from tensorflow.keras.preprocessing import image\n",
        "import numpy as np\n",
        "from google.colab import drive"
      ]
    },
    {
      "cell_type": "markdown",
      "metadata": {
        "id": "FvS8GFR5W0oc"
      },
      "source": [
        "### Connecting with Google Drive"
      ]
    },
    {
      "cell_type": "code",
      "execution_count": null,
      "metadata": {
        "id": "y1qU85nqDkMQ"
      },
      "outputs": [],
      "source": [
        "# 3. google drive နဲ့ ချိတ်ပါ\n",
        "\n",
        "from google.colab import drive\n",
        "drive.mount('/content/drive')"
      ]
    },
    {
      "cell_type": "markdown",
      "metadata": {
        "id": "u-gX9-XgXCPs"
      },
      "source": [
        "### Data Understanding and Preparation"
      ]
    },
    {
      "cell_type": "code",
      "execution_count": null,
      "metadata": {
        "id": "xD3p2JBjDy3Q"
      },
      "outputs": [],
      "source": [
        "# 4. Directory of Data Folders\n",
        "# မိမိရဲ့ ပတ်လမ်းကြောင်း ပြောင်းဖို့ မမေ့ပါနဲ့\n",
        "\n",
        "train_dir  = '/content/drive/MyDrive/AI-Simbolo/Deep Learning/Dogs vs Cats vs Tigers/Training datasets' \n",
        "test_dir   = '/content/drive/MyDrive/AI-Simbolo/Deep Learning/Dogs vs Cats vs Tigers/Testing datasets'"
      ]
    },
    {
      "cell_type": "code",
      "execution_count": null,
      "metadata": {
        "id": "PBADNPBpJr9t"
      },
      "outputs": [],
      "source": [
        "# ပုံတွေရဲ့ Range  ကို scale လုပ်တာ။\n",
        "from tensorflow.keras.preprocessing.image import ImageDataGenerator\n",
        " \n",
        "# All images will be rescaled by 1./255.\n",
        "train_datagen = ImageDataGenerator( rescale = 1.0/255. )        #(0-255) into scale range is 0 and 1, cuz minimize scale.\n",
        "test_datagen  = ImageDataGenerator( rescale = 1.0/255. )"
      ]
    },
    {
      "cell_type": "code",
      "execution_count": null,
      "metadata": {
        "id": "lj8PX-TEJurm"
      },
      "outputs": [],
      "source": [
        "import os \n",
        "os.listdir(train_dir)   #training folder ေအာက်မှာဘာတွေရှိလဲကြည့် "
      ]
    },
    {
      "cell_type": "code",
      "execution_count": null,
      "metadata": {
        "id": "FRIrplAsJyBR"
      },
      "outputs": [],
      "source": [
        "os.listdir(train_dir+'/cats')   #cats folder ထဲက image တွေထုတ်ကြည့်"
      ]
    },
    {
      "cell_type": "code",
      "execution_count": null,
      "metadata": {
        "id": "IfNvIbb6J2-5"
      },
      "outputs": [],
      "source": [
        "import cv2        #for image reading with cv2 library\n",
        "image = cv2.imread(train_dir+'/cats/'+'image.jpeg')  #\n",
        "image_rgb = cv2.cvtColor(image, cv2.COLOR_BGR2RGB)  #BGR to RGB ေပြာင်း "
      ]
    },
    {
      "cell_type": "code",
      "execution_count": null,
      "metadata": {
        "id": "ohNaJGeRJ8aq"
      },
      "outputs": [],
      "source": [
        "import matplotlib.pyplot as plt   #matplotlib is good for map and chart\n",
        "plt.imshow(image)   "
      ]
    },
    {
      "cell_type": "code",
      "execution_count": null,
      "metadata": {
        "id": "lBVmKGPVKAOO"
      },
      "outputs": [],
      "source": [
        "# ပုံတစ်ပုံကို ထုတ်ကြည့်ထားတာ\n",
        "plt.imshow(image_rgb)   #original image with RGB"
      ]
    },
    {
      "cell_type": "code",
      "execution_count": null,
      "metadata": {
        "id": "cvwy-L7NKCvd"
      },
      "outputs": [],
      "source": [
        "import numpy as np\n",
        "np.array(image_rgb)"
      ]
    },
    {
      "cell_type": "code",
      "execution_count": null,
      "metadata": {
        "id": "D_Im6xDhKGFv"
      },
      "outputs": [],
      "source": [
        "batch_size = 5\n",
        " \n",
        "# ကိုယ်ယူတဲ့ Target Size တွေကို မှတ်ထားပါ နောက်ပြန်သုံးမှာမို့\n",
        "training_set = train_datagen.flow_from_directory(train_dir,\n",
        "                                                 target_size=(100, 100),           #all images ကို width height ညှိပေးတာ\n",
        "                                                 batch_size=batch_size,\n",
        "                                                 class_mode='categorical')    #there are 3 categories (cats,dogs,tigers) \n",
        "                                                 #class_mode='binary')  #if there are two categories, use binary.\n",
        " \n",
        "test_set = test_datagen .flow_from_directory(test_dir,\n",
        "                                            target_size=(100, 100),\n",
        "                                            batch_size=batch_size,\n",
        "                                            class_mode='categorical')\n",
        "                                            #class_mode='binary')"
      ]
    },
    {
      "cell_type": "markdown",
      "metadata": {
        "id": "hryAX7HuW60l"
      },
      "source": [
        "### Modeling"
      ]
    },
    {
      "cell_type": "markdown",
      "source": [],
      "metadata": {
        "id": "KEnmRyxpVQZm"
      }
    },
    {
      "cell_type": "code",
      "execution_count": null,
      "metadata": {
        "id": "r14fux-WI8QD"
      },
      "outputs": [],
      "source": [
        "# 5. Neural Network Implemenation\n",
        "\"\"\" နောက်ဆုံး Layer မှာ ကိုယ့်ရဲ့ Label အရေအတွက် အတိုင်းထည့်ပေးရမှာပါ။ \n",
        "    Label က ငါးခုဆိုရင် tf.keras.layers.Dense(5,activation=tf.nn.softmax)\n",
        " \n",
        "    Label က နှစ်ခုဆိုရင်တော့ tf.keras.layers.Dense(1,activation=tf.nn.sigmoid)\n",
        "    Activation ကို sigmoid ပြောင်းသုံးသင့်ပါတယ်။\n",
        "\n",
        "    Label က နှစ်ခုနဲ့အထက်ဆိုရင်တော့ (n = more than two classes) ဆိုရင်တော့ tf.keras.layers.Dense(n,activation=tf.nn.softmax)\n",
        "    Activation ကို softmax ပြောင်းသုံးသင့်ပါတယ်။\n",
        "\"\"\"\n",
        "# \n",
        "import tensorflow as tf\n",
        " \n",
        "model  = tf.keras.models.Sequential([\n",
        "        tf.keras.layers.Flatten(input_shape = (100, 100, 3)),    #flatten က matrix table ကို row တခုထဲေပြာင်း, 3 က 3 channels RGB\n",
        "        # tf.keras.layers.Dense(1000,activation=tf.nn.relu),#hidden\n",
        "        # tf.keras.layers.Dense(500,activation=tf.nn.relu),\n",
        "        # tf.keras.layers.Dense(200,activation=tf.nn.relu),\n",
        "        tf.keras.layers.Dense(100,activation=tf.nn.relu),  #hidden layer 100 neurons ထား \n",
        "        tf.keras.layers.Dense(3,activation=tf.nn.softmax) # output layers with 3 labels (neurons)\n",
        "])"
      ]
    },
    {
      "cell_type": "code",
      "execution_count": null,
      "metadata": {
        "id": "w7uev0rUJbEb"
      },
      "outputs": [],
      "source": [
        "# label က နှစ်ခုပဲဆိုရင်တော့ binary_crossentropy ကိုသုံးသင့်ပါတယ်။\n",
        "# label က နှစ်ခုအထက် ဆိုရင်တော့ categorical_crossentropyကိုသုံးသင့်ပါတယ်။\n",
        "model.compile(optimizer='adam',   #result ပိုေကာင်းအောင်ထည့်တာ \n",
        "              loss = 'categorical_crossentropy',\n",
        "              metrics =['acc'])   #accuracy "
      ]
    },
    {
      "cell_type": "code",
      "execution_count": null,
      "metadata": {
        "id": "li_ch6EBKKQH"
      },
      "outputs": [],
      "source": [
        "# Data Training\n",
        "#7414 မှာ ကိုယ့်ရဲ့ ပုံအရေအတွက် ပြောင်းဖို့မမေ့ပါနဲ့\n",
        "# Edit 7414 depending on your data\n",
        "history = model.fit(training_set,\n",
        "                              #validation_data = validation_set,\n",
        "                              steps_per_epoch=15//batch_size,  #epoch (run တဲ့အကြိမ်အရေအတွက်) တခုမှာ ၁၅ကြိမ်သွားမယ် \n",
        "                        \n",
        "                         epochs=6,                   #count of runnning\n",
        "                         #validation_steps=validation_length//batch_size,\n",
        "                         #validation_steps=1000//batch_size,\n",
        "                         verbose = 2,\n",
        "                         shuffle = False)  #data တွေကို random/shuffle လုပ်ပြီး run "
      ]
    },
    {
      "cell_type": "code",
      "execution_count": null,
      "metadata": {
        "id": "KovUEj3yKS8q"
      },
      "outputs": [],
      "source": [
        "# Accuracyနဲ့ loss တန်ဖိုးတွေက epoch အလိုက်ထုတ်ကြည့်ထားတာ\n",
        "import matplotlib.pyplot as plt\n",
        "acc = history.history[     'acc' ]\n",
        "#val_acc  = history.history[ 'val_acc' ]\n",
        "loss     = history.history[    'loss' ]\n",
        "#val_loss = history.history['val_loss' ]\n",
        "\n",
        "epochs   = range(len(acc)) \n",
        "plt.plot  ( epochs,     acc ,label = 'Accuracy')\n",
        "#plt.plot  ( epochs, val_acc)\n",
        "#plt.title ('Training and validation accuracy')\n",
        "plt.title ('Training Accuracy')\n",
        "plt.figure()\n",
        "\n",
        "plt.plot  ( epochs,     loss )\n",
        "#plt.plot  ( epochs, val_loss )\n",
        "#plt.title ('Training and validation loss')\n",
        "plt.title ('Training Loss')\n",
        "\n",
        "plt.show()"
      ]
    },
    {
      "cell_type": "markdown",
      "metadata": {
        "id": "4fQ8461VXjyw"
      },
      "source": [
        "### Evaluation"
      ]
    },
    {
      "cell_type": "code",
      "execution_count": null,
      "metadata": {
        "id": "TfDELUA3KoYR"
      },
      "outputs": [],
      "source": [
        "# Class Labels\n",
        "class_dictionary = test_set.class_indices\n",
        "print('Labels dictionary',class_dictionary)  #evaluation စမ်းရင် unseen testing data နဲ့စမ်း "
      ]
    },
    {
      "cell_type": "code",
      "execution_count": null,
      "metadata": {
        "id": "v9guhpA3KXjX"
      },
      "outputs": [],
      "source": [
        "y_predicted = model.predict(test_set) # A way to predict data"
      ]
    },
    {
      "cell_type": "code",
      "execution_count": null,
      "metadata": {
        "id": "f3E9hJksR1Vl"
      },
      "outputs": [],
      "source": [
        "y_predicted"
      ]
    },
    {
      "cell_type": "code",
      "execution_count": null,
      "metadata": {
        "id": "Zg4TxekrKbFY"
      },
      "outputs": [],
      "source": [
        "#  တစ်ပုံချင်းစီကို Testလုပ်တာ\n",
        "folder_names = ['cats','dogs', 'tigers'] # Please don't forget to change here\n",
        "y_pred = []\n",
        "for folder in folder_names:\n",
        "    path = test_dir+\"/\"+folder\n",
        "    path_fnames = os.listdir(path)\n",
        "    for i in path_fnames:\n",
        "        path2 = path+'/'+i\n",
        "        img = tf.keras.preprocessing.image.load_img(path2, target_size=(28,28))#target size ကို သတိထားပါ\n",
        "        x = tf.keras.preprocessing.image.img_to_array(img)\n",
        "        x = np.expand_dims(x,axis=0)\n",
        "        x /= 255.0\n",
        "        images = np.vstack([x])# [1 2 3 4 5 6]\n",
        "        classes = model.predict(x)\n",
        "        y_classes=classes.argmax(axis=-1)\n",
        "        y_pred.append(y_classes[0])\n",
        "    print()"
      ]
    },
    {
      "cell_type": "code",
      "execution_count": null,
      "metadata": {
        "id": "UCgAOGbZKj4R"
      },
      "outputs": [],
      "source": [
        "# Actual Labels\n",
        "y_true = test_set.classes.tolist()\n",
        "print(y_true)"
      ]
    },
    {
      "cell_type": "code",
      "execution_count": null,
      "metadata": {
        "id": "By7NjqeQKqmD"
      },
      "outputs": [],
      "source": [
        "#Confusion Matrix\n",
        "from sklearn.metrics import confusion_matrix\n",
        "confusion_matrix = confusion_matrix(y_true,y_pred)\n",
        "print('confusion_matrix')\n",
        "print(confusion_matrix)"
      ]
    },
    {
      "cell_type": "code",
      "execution_count": null,
      "metadata": {
        "id": "Y4Pj7m-YAsr4"
      },
      "outputs": [],
      "source": [
        "y_true"
      ]
    },
    {
      "cell_type": "code",
      "source": [
        "print(len(y_true))"
      ],
      "metadata": {
        "id": "nWy2odVpt7SW"
      },
      "execution_count": null,
      "outputs": []
    },
    {
      "cell_type": "code",
      "execution_count": null,
      "metadata": {
        "id": "nju4pZgcAwCK"
      },
      "outputs": [],
      "source": [
        "y_pred"
      ]
    },
    {
      "cell_type": "code",
      "source": [
        "print(len(y_pred))"
      ],
      "metadata": {
        "id": "o0l2o0U-uB8z"
      },
      "execution_count": null,
      "outputs": []
    },
    {
      "cell_type": "code",
      "execution_count": null,
      "metadata": {
        "id": "phFI4OEQKsqL"
      },
      "outputs": [],
      "source": [
        "from sklearn.metrics import accuracy_score, precision_score, f1_score, recall_score\n",
        "\n",
        "print('Accuracy Score',accuracy_score(y_true, y_pred)*100,'%')\n",
        "print('Precision Macro Score ',precision_score(y_true, y_pred,average = 'macro')*100,'%')\n",
        "print('Recall_Score',recall_score(y_true, y_pred, average = 'macro')*100,'%')\n",
        "print('F1_Score',f1_score(y_true, y_pred, average = 'macro')*100,'%')"
      ]
    },
    {
      "cell_type": "markdown",
      "metadata": {
        "id": "aKdqvUUjX6fx"
      },
      "source": [
        "### Saving Model File"
      ]
    },
    {
      "cell_type": "code",
      "execution_count": null,
      "metadata": {
        "id": "z2HWY2qeK6Z4"
      },
      "outputs": [],
      "source": [
        "# model ကို သိမ်းတာကလည်း အရေးကြီးတယ်။\n",
        "model.save('/neural_networks.h5')"
      ]
    },
    {
      "cell_type": "markdown",
      "metadata": {
        "id": "oNP4id12YB6S"
      },
      "source": [
        "### Implement with Streamlit"
      ]
    },
    {
      "cell_type": "code",
      "execution_count": null,
      "metadata": {
        "id": "w15OJ4P1Sz4S"
      },
      "outputs": [],
      "source": [
        "# How to implement your model with streamlit: https://github.com/ThuraAung1601"
      ]
    }
  ],
  "metadata": {
    "accelerator": "GPU",
    "colab": {
      "provenance": [],
      "private_outputs": true
    },
    "gpuClass": "standard",
    "kernelspec": {
      "display_name": "Python 3",
      "name": "python3"
    },
    "language_info": {
      "name": "python"
    }
  },
  "nbformat": 4,
  "nbformat_minor": 0
}